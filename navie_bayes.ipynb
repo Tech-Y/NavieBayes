{
 "cells": [
  {
   "cell_type": "code",
   "execution_count": 30,
   "metadata": {},
   "outputs": [],
   "source": [
    "import numpy as np\n",
    "import pandas as pd"
   ]
  },
  {
   "cell_type": "markdown",
   "source": [
    "## Load Iris Data"
   ],
   "metadata": {
    "collapsed": false
   }
  },
  {
   "cell_type": "code",
   "execution_count": 31,
   "metadata": {},
   "outputs": [
    {
     "data": {
      "text/plain": "    sepal_length  sepal_width  petal_length  petal_width species\n0            5.1          3.5           1.4          0.2  setosa\n1            4.9          3.0           1.4          0.2  setosa\n2            4.7          3.2           1.3          0.2  setosa\n3            4.6          3.1           1.5          0.2  setosa\n4            5.0          3.6           1.4          0.2  setosa\n5            5.4          3.9           1.7          0.4  setosa\n6            4.6          3.4           1.4          0.3  setosa\n7            5.0          3.4           1.5          0.2  setosa\n8            4.4          2.9           1.4          0.2  setosa\n9            4.9          3.1           1.5          0.1  setosa\n10           5.4          3.7           1.5          0.2  setosa\n11           4.8          3.4           1.6          0.2  setosa\n12           4.8          3.0           1.4          0.1  setosa\n13           4.3          3.0           1.1          0.1  setosa\n14           5.8          4.0           1.2          0.2  setosa",
      "text/html": "<div>\n<style scoped>\n    .dataframe tbody tr th:only-of-type {\n        vertical-align: middle;\n    }\n\n    .dataframe tbody tr th {\n        vertical-align: top;\n    }\n\n    .dataframe thead th {\n        text-align: right;\n    }\n</style>\n<table border=\"1\" class=\"dataframe\">\n  <thead>\n    <tr style=\"text-align: right;\">\n      <th></th>\n      <th>sepal_length</th>\n      <th>sepal_width</th>\n      <th>petal_length</th>\n      <th>petal_width</th>\n      <th>species</th>\n    </tr>\n  </thead>\n  <tbody>\n    <tr>\n      <th>0</th>\n      <td>5.1</td>\n      <td>3.5</td>\n      <td>1.4</td>\n      <td>0.2</td>\n      <td>setosa</td>\n    </tr>\n    <tr>\n      <th>1</th>\n      <td>4.9</td>\n      <td>3.0</td>\n      <td>1.4</td>\n      <td>0.2</td>\n      <td>setosa</td>\n    </tr>\n    <tr>\n      <th>2</th>\n      <td>4.7</td>\n      <td>3.2</td>\n      <td>1.3</td>\n      <td>0.2</td>\n      <td>setosa</td>\n    </tr>\n    <tr>\n      <th>3</th>\n      <td>4.6</td>\n      <td>3.1</td>\n      <td>1.5</td>\n      <td>0.2</td>\n      <td>setosa</td>\n    </tr>\n    <tr>\n      <th>4</th>\n      <td>5.0</td>\n      <td>3.6</td>\n      <td>1.4</td>\n      <td>0.2</td>\n      <td>setosa</td>\n    </tr>\n    <tr>\n      <th>5</th>\n      <td>5.4</td>\n      <td>3.9</td>\n      <td>1.7</td>\n      <td>0.4</td>\n      <td>setosa</td>\n    </tr>\n    <tr>\n      <th>6</th>\n      <td>4.6</td>\n      <td>3.4</td>\n      <td>1.4</td>\n      <td>0.3</td>\n      <td>setosa</td>\n    </tr>\n    <tr>\n      <th>7</th>\n      <td>5.0</td>\n      <td>3.4</td>\n      <td>1.5</td>\n      <td>0.2</td>\n      <td>setosa</td>\n    </tr>\n    <tr>\n      <th>8</th>\n      <td>4.4</td>\n      <td>2.9</td>\n      <td>1.4</td>\n      <td>0.2</td>\n      <td>setosa</td>\n    </tr>\n    <tr>\n      <th>9</th>\n      <td>4.9</td>\n      <td>3.1</td>\n      <td>1.5</td>\n      <td>0.1</td>\n      <td>setosa</td>\n    </tr>\n    <tr>\n      <th>10</th>\n      <td>5.4</td>\n      <td>3.7</td>\n      <td>1.5</td>\n      <td>0.2</td>\n      <td>setosa</td>\n    </tr>\n    <tr>\n      <th>11</th>\n      <td>4.8</td>\n      <td>3.4</td>\n      <td>1.6</td>\n      <td>0.2</td>\n      <td>setosa</td>\n    </tr>\n    <tr>\n      <th>12</th>\n      <td>4.8</td>\n      <td>3.0</td>\n      <td>1.4</td>\n      <td>0.1</td>\n      <td>setosa</td>\n    </tr>\n    <tr>\n      <th>13</th>\n      <td>4.3</td>\n      <td>3.0</td>\n      <td>1.1</td>\n      <td>0.1</td>\n      <td>setosa</td>\n    </tr>\n    <tr>\n      <th>14</th>\n      <td>5.8</td>\n      <td>4.0</td>\n      <td>1.2</td>\n      <td>0.2</td>\n      <td>setosa</td>\n    </tr>\n  </tbody>\n</table>\n</div>"
     },
     "execution_count": 31,
     "metadata": {},
     "output_type": "execute_result"
    }
   ],
   "source": [
    "iris_data = pd.read_csv(\"./data/IrisDataset.csv\")\n",
    "\n",
    "iris_data.head(15)"
   ]
  },
  {
   "cell_type": "code",
   "execution_count": 32,
   "metadata": {},
   "outputs": [
    {
     "data": {
      "text/plain": "setosa        50\nversicolor    50\nvirginica     50\nName: species, dtype: int64"
     },
     "execution_count": 32,
     "metadata": {},
     "output_type": "execute_result"
    }
   ],
   "source": [
    "iris_data[\"species\"].value_counts()"
   ]
  },
  {
   "cell_type": "code",
   "execution_count": 33,
   "metadata": {},
   "outputs": [],
   "source": [
    "def encode_species(specie):\n",
    "    if specie == \"setosa\":\n",
    "        return 1\n",
    "    elif specie == \"versicolor\":\n",
    "        return 2\n",
    "    elif specie == \"virginica\":\n",
    "        return 3\n",
    "\n",
    "\n",
    "def decode_predict(specie_encode):\n",
    "    if specie_encode == 1:\n",
    "        return \"setosa\"\n",
    "    elif specie_encode == 2:\n",
    "        return \"versicolor\"\n",
    "    elif specie_encode == 3:\n",
    "        return \"virginica\"\n",
    "\n"
   ]
  },
  {
   "cell_type": "code",
   "execution_count": 33,
   "outputs": [],
   "source": [],
   "metadata": {
    "collapsed": false
   }
  },
  {
   "cell_type": "code",
   "execution_count": 34,
   "metadata": {},
   "outputs": [],
   "source": [
    "iris_data[\"species_encode\"] = iris_data[\"species\"].apply(encode_species)"
   ]
  },
  {
   "cell_type": "code",
   "execution_count": 35,
   "metadata": {},
   "outputs": [
    {
     "data": {
      "text/plain": "   sepal_length  sepal_width  petal_length  petal_width species  \\\n0           5.1          3.5           1.4          0.2  setosa   \n1           4.9          3.0           1.4          0.2  setosa   \n2           4.7          3.2           1.3          0.2  setosa   \n3           4.6          3.1           1.5          0.2  setosa   \n4           5.0          3.6           1.4          0.2  setosa   \n\n   species_encode  \n0               1  \n1               1  \n2               1  \n3               1  \n4               1  ",
      "text/html": "<div>\n<style scoped>\n    .dataframe tbody tr th:only-of-type {\n        vertical-align: middle;\n    }\n\n    .dataframe tbody tr th {\n        vertical-align: top;\n    }\n\n    .dataframe thead th {\n        text-align: right;\n    }\n</style>\n<table border=\"1\" class=\"dataframe\">\n  <thead>\n    <tr style=\"text-align: right;\">\n      <th></th>\n      <th>sepal_length</th>\n      <th>sepal_width</th>\n      <th>petal_length</th>\n      <th>petal_width</th>\n      <th>species</th>\n      <th>species_encode</th>\n    </tr>\n  </thead>\n  <tbody>\n    <tr>\n      <th>0</th>\n      <td>5.1</td>\n      <td>3.5</td>\n      <td>1.4</td>\n      <td>0.2</td>\n      <td>setosa</td>\n      <td>1</td>\n    </tr>\n    <tr>\n      <th>1</th>\n      <td>4.9</td>\n      <td>3.0</td>\n      <td>1.4</td>\n      <td>0.2</td>\n      <td>setosa</td>\n      <td>1</td>\n    </tr>\n    <tr>\n      <th>2</th>\n      <td>4.7</td>\n      <td>3.2</td>\n      <td>1.3</td>\n      <td>0.2</td>\n      <td>setosa</td>\n      <td>1</td>\n    </tr>\n    <tr>\n      <th>3</th>\n      <td>4.6</td>\n      <td>3.1</td>\n      <td>1.5</td>\n      <td>0.2</td>\n      <td>setosa</td>\n      <td>1</td>\n    </tr>\n    <tr>\n      <th>4</th>\n      <td>5.0</td>\n      <td>3.6</td>\n      <td>1.4</td>\n      <td>0.2</td>\n      <td>setosa</td>\n      <td>1</td>\n    </tr>\n  </tbody>\n</table>\n</div>"
     },
     "execution_count": 35,
     "metadata": {},
     "output_type": "execute_result"
    }
   ],
   "source": [
    "iris_data.head(5)"
   ]
  },
  {
   "cell_type": "code",
   "execution_count": 36,
   "outputs": [],
   "source": [
    "trainY = iris_data[\"species_encode\"].values\n",
    "trainX = iris_data.drop([\"species\", \"species_encode\"], axis=1).values"
   ],
   "metadata": {
    "collapsed": false
   }
  },
  {
   "cell_type": "markdown",
   "source": [
    "## Create NavieBayesClassifier"
   ],
   "metadata": {
    "collapsed": false
   }
  },
  {
   "cell_type": "code",
   "execution_count": 37,
   "metadata": {},
   "outputs": [],
   "source": [
    "\n",
    "# Naive Bayes Classifier Class\n",
    "\n",
    "class NaiveBayesClassifier:\n",
    "\n",
    "    def __init__(self):\n",
    "        pass\n",
    "\n",
    "    # Separate the dataset into a subset of data for each class\n",
    "\n",
    "    def separate_classes(self, X, y):\n",
    "        \"\"\"\n",
    "        Separates the dataset in to a subset of data for each class.\n",
    "        Parameters:\n",
    "        ------------\n",
    "        X- array, list of features\n",
    "        y- list, target\n",
    "        Returns:\n",
    "        A dictionary with y as keys and assigned X as values.\n",
    "        \"\"\"\n",
    "        separated_classes = {}\n",
    "        for i in range(len(X)):\n",
    "            feature_values = X[i]\n",
    "            class_name = y[i]\n",
    "            if class_name not in separated_classes:\n",
    "                separated_classes[class_name] = []\n",
    "            separated_classes[class_name].append(feature_values)\n",
    "        return separated_classes\n",
    "\n",
    "    # Standard deviation and mean are required for the (Gaussian) distribution function\n",
    "\n",
    "    def stat_info(self, X):\n",
    "        \"\"\"\n",
    "        Calculates standard deviation and mean of features.\n",
    "        Parameters:\n",
    "        ------------\n",
    "        X- array , list of features\n",
    "        Returns:\n",
    "        A dictionary with STD and Mean as keys and assigned features STD and Mean as values.\n",
    "        \"\"\"\n",
    "        for feature in zip(*X):\n",
    "            yield {\n",
    "                'std': np.std(feature),\n",
    "                'mean': np.mean(feature)\n",
    "            }\n",
    "\n",
    "    # Required fit method, to train the model\n",
    "\n",
    "    def fit(self, X, y):\n",
    "        \"\"\"\n",
    "        Trains the model.\n",
    "        Parameters:\n",
    "        ----------\n",
    "        X: array-like, training features\n",
    "        y: list, target variable\n",
    "        Returns:\n",
    "        Dictionary with the prior probability, mean, and standard deviation of each class\n",
    "        \"\"\"\n",
    "\n",
    "        separated_classes = self.separate_classes(X, y)\n",
    "        self.class_summary = {}\n",
    "\n",
    "        for class_name, feature_values in separated_classes.items():\n",
    "            self.class_summary[class_name] = {\n",
    "                'prior_proba': len(feature_values) / len(X),\n",
    "                'summary': [i for i in self.stat_info(feature_values)],\n",
    "            }\n",
    "        return self.class_summary\n",
    "\n",
    "    # Gaussian distribution function\n",
    "\n",
    "    def distribution(self, x, mean, std):\n",
    "        \"\"\"\n",
    "        Gaussian Distribution Function\n",
    "        Parameters:\n",
    "        ----------\n",
    "        x: float, value of feature\n",
    "        mean: float, the average value of feature\n",
    "        stdev: float, the standard deviation of feature\n",
    "        Returns:\n",
    "        A value of Normal Probability\n",
    "        \"\"\"\n",
    "\n",
    "        exponent = np.exp(-((x - mean) ** 2 / (2 * std ** 2)))\n",
    "\n",
    "        return exponent / (np.sqrt(2 * np.pi) * std)\n",
    "\n",
    "    # Required predict method, to predict the class\n",
    "\n",
    "    def predict(self, X):\n",
    "        \"\"\"\n",
    "        Predicts the class.\n",
    "        Parameters:\n",
    "        ----------\n",
    "        X: array-like, test data set\n",
    "        Returns:\n",
    "        -----------\n",
    "        List of predicted class for each row of data set\n",
    "        \"\"\"\n",
    "\n",
    "        # Maximum a posteriori (MAP)\n",
    "\n",
    "        MAPs = []\n",
    "\n",
    "        for row in X:\n",
    "            joint_proba = {}\n",
    "\n",
    "            for class_name, features in self.class_summary.items():\n",
    "                total_features = len(features['summary'])\n",
    "                likelihood = 1\n",
    "\n",
    "                for idx in range(total_features):\n",
    "                    feature = row[idx]\n",
    "                    mean = features['summary'][idx]['mean']\n",
    "                    stdev = features['summary'][idx]['std']\n",
    "                    normal_proba = self.distribution(feature, mean, stdev)\n",
    "                    likelihood *= normal_proba\n",
    "                prior_proba = features['prior_proba']\n",
    "                joint_proba[class_name] = prior_proba * likelihood\n",
    "\n",
    "            MAP = max(joint_proba, key=joint_proba.get)\n",
    "            MAPs.append(MAP)\n",
    "\n",
    "        return MAPs\n",
    "\n",
    "\n"
   ]
  },
  {
   "cell_type": "markdown",
   "source": [
    "## Use NaiveBayesClassifier"
   ],
   "metadata": {
    "collapsed": false
   }
  },
  {
   "cell_type": "code",
   "execution_count": 38,
   "metadata": {},
   "outputs": [],
   "source": [
    "model = NaiveBayesClassifier()"
   ]
  },
  {
   "cell_type": "code",
   "execution_count": 39,
   "metadata": {},
   "outputs": [
    {
     "data": {
      "text/plain": "{1: {'prior_proba': 0.3333333333333333,\n  'summary': [{'std': 0.3489469873777391, 'mean': 5.006},\n   {'std': 0.37719490982779713, 'mean': 3.418},\n   {'std': 0.17176728442867112, 'mean': 1.464},\n   {'std': 0.10613199329137281, 'mean': 0.244}]},\n 2: {'prior_proba': 0.3333333333333333,\n  'summary': [{'std': 0.5109833656783751, 'mean': 5.936},\n   {'std': 0.31064449134018135, 'mean': 2.7700000000000005},\n   {'std': 0.4651881339845203, 'mean': 4.26},\n   {'std': 0.19576516544063705, 'mean': 1.3259999999999998}]},\n 3: {'prior_proba': 0.3333333333333333,\n  'summary': [{'std': 0.6294886813914926, 'mean': 6.587999999999998},\n   {'std': 0.3192553836664309, 'mean': 2.974},\n   {'std': 0.546347874526844, 'mean': 5.5520000000000005},\n   {'std': 0.2718896835115301, 'mean': 2.0260000000000002}]}}"
     },
     "execution_count": 39,
     "metadata": {},
     "output_type": "execute_result"
    }
   ],
   "source": [
    "model.fit(trainX, trainY)"
   ]
  },
  {
   "cell_type": "code",
   "execution_count": 40,
   "metadata": {},
   "outputs": [
    {
     "name": "stdout",
     "output_type": "stream",
     "text": [
      "Sepal Length: 5.7, Sepal Width: 3.2, Petal Length: 5.1, Petal Width: 1.6, \n",
      "Classification Result : virginica\n"
     ]
    }
   ],
   "source": [
    "sepal_length = 5.7\n",
    "sepal_width = 3.2\n",
    "petal_length = 5.1\n",
    "petal_width = 1.6\n",
    "\n",
    "test_data = [[sepal_length, sepal_width, petal_length, petal_width]]\n",
    "\n",
    "pred_y = model.predict(test_data)\n",
    "\n",
    "print(f\"Sepal Length: {sepal_length}, Sepal Width: {sepal_width}, Petal Length: {petal_length}, Petal Width: {petal_width}, \\nClassification Result : {decode_predict(pred_y[0])}\")"
   ]
  },
  {
   "cell_type": "markdown",
   "source": [
    "## Use Sklearn Naive Bayes Classifier"
   ],
   "metadata": {
    "collapsed": false
   }
  },
  {
   "cell_type": "code",
   "execution_count": 41,
   "outputs": [],
   "source": [
    "from sklearn.naive_bayes import GaussianNB"
   ],
   "metadata": {
    "collapsed": false
   }
  },
  {
   "cell_type": "code",
   "execution_count": 42,
   "outputs": [
    {
     "data": {
      "text/plain": "GaussianNB()"
     },
     "execution_count": 42,
     "metadata": {},
     "output_type": "execute_result"
    }
   ],
   "source": [
    "clf = GaussianNB()\n",
    "\n",
    "clf.fit(trainX, trainY)"
   ],
   "metadata": {
    "collapsed": false
   }
  },
  {
   "cell_type": "code",
   "execution_count": 43,
   "outputs": [],
   "source": [
    "sepal_length = 5.7\n",
    "sepal_width = 3.2\n",
    "petal_length = 5.1\n",
    "petal_width = 1.6\n",
    "\n",
    "test_data = [[sepal_length, sepal_width, petal_length, petal_width]]\n",
    "\n",
    "pred_clf = clf.predict(test_data)"
   ],
   "metadata": {
    "collapsed": false
   }
  },
  {
   "cell_type": "code",
   "execution_count": 44,
   "outputs": [
    {
     "name": "stdout",
     "output_type": "stream",
     "text": [
      "Sepal Length: 5.7, Sepal Width: 3.2, Petal Length: 5.1, Petal Width: 1.6, \n",
      "Classification Result : virginica\n"
     ]
    }
   ],
   "source": [
    "print(f\"Sepal Length: {sepal_length}, Sepal Width: {sepal_width}, Petal Length: {petal_length}, Petal Width: {petal_width}, \\nClassification Result : {decode_predict(pred_clf[0])}\")"
   ],
   "metadata": {
    "collapsed": false
   }
  }
 ],
 "metadata": {
  "kernelspec": {
   "display_name": "Python 3.9.12 ('base')",
   "language": "python",
   "name": "python3"
  },
  "language_info": {
   "codemirror_mode": {
    "name": "ipython",
    "version": 3
   },
   "file_extension": ".py",
   "mimetype": "text/x-python",
   "name": "python",
   "nbconvert_exporter": "python",
   "pygments_lexer": "ipython3",
   "version": "3.9.12"
  },
  "orig_nbformat": 4,
  "vscode": {
   "interpreter": {
    "hash": "c5e0b78d3b337af7929957828eacdd70767e7140bfec8b3ee03e0c5d7fae80a7"
   }
  }
 },
 "nbformat": 4,
 "nbformat_minor": 2
}
